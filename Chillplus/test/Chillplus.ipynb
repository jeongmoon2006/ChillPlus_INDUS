{
 "cells": [
  {
   "cell_type": "code",
   "execution_count": 2,
   "id": "4e6fa467",
   "metadata": {},
   "outputs": [],
   "source": [
    "import MDAnalysis as mda\n",
    "import numpy as np\n",
    "import torch\n",
    "from scipy.special import erf\n",
    "import matplotlib.pyplot as plt"
   ]
  },
  {
   "cell_type": "markdown",
   "id": "85521a41",
   "metadata": {},
   "source": [
    "## This is for checking vanilla Chill+"
   ]
  },
  {
   "cell_type": "code",
   "execution_count": 3,
   "id": "7adcdc20",
   "metadata": {},
   "outputs": [],
   "source": [
    "u = mda.Universe('bias.gro', 'bias_short.xtc')"
   ]
  },
  {
   "cell_type": "code",
   "execution_count": 22,
   "id": "20edd1e6",
   "metadata": {},
   "outputs": [],
   "source": [
    "pos = u.atoms.positions\n",
    "box = u.dimensions[:3]"
   ]
  },
  {
   "cell_type": "code",
   "execution_count": null,
   "id": "7c4fbdf5",
   "metadata": {},
   "outputs": [],
   "source": [
    "import numpy as np\n",
    "\n",
    "def pbc_distance(atom1_pos: np.ndarray, atom2_pos: np.ndarray, box: np.ndarray) -> np.ndarray:\n",
    "    \"\"\"\n",
    "    Calculate the PBC-corrected pairwise distances between two sets of atoms.\n",
    "    \n",
    "    Parameters:\n",
    "    - atom1_pos: (n1,3) array representing the positions of n1 atoms.\n",
    "    - atom2_pos: (n2,3) array representing the positions of n2 atoms.\n",
    "    - box: (3,) array representing the box dimensions in x, y, and z directions.\n",
    "    \n",
    "    Returns:\n",
    "    - A (n1,n2) array where each element (i,j) represents the PBC-corrected distance between atom i from atom1_pos and atom j from atom2_pos.\n",
    "    \"\"\"\n",
    "    \n",
    "    rik = atom1_pos[:, np.newaxis,:] - atom2_pos[np.newaxis, :,:]\n",
    "    rik = rik - np.round(rik / box) * box\n",
    "    rsphki = np.sqrt( (rik**2).sum(axis = -1) )\n",
    "    \n",
    "    return rsphki\n",
    "    \n",
    "    "
   ]
  },
  {
   "cell_type": "code",
   "execution_count": 26,
   "id": "20153491",
   "metadata": {},
   "outputs": [
    {
     "data": {
      "text/plain": [
       "array([[66.11066 , 66.14985 , 66.065155, ..., 32.31616 , 32.330635,\n",
       "        32.743   ]], dtype=float32)"
      ]
     },
     "execution_count": 26,
     "metadata": {},
     "output_type": "execute_result"
    }
   ],
   "source": [
    "dist"
   ]
  },
  {
   "cell_type": "code",
   "execution_count": 28,
   "id": "f14c6e67",
   "metadata": {},
   "outputs": [
    {
     "data": {
      "text/plain": [
       "array([ 7.9300003,  2.87     , 30.300003 ], dtype=float32)"
      ]
     },
     "execution_count": 28,
     "metadata": {},
     "output_type": "execute_result"
    }
   ],
   "source": [
    "pos[0]"
   ]
  },
  {
   "cell_type": "code",
   "execution_count": 30,
   "id": "e0b50d5d",
   "metadata": {},
   "outputs": [
    {
     "data": {
      "text/plain": [
       "66.11066"
      ]
     },
     "execution_count": 30,
     "metadata": {},
     "output_type": "execute_result"
    }
   ],
   "source": [
    "dist[0,0]"
   ]
  },
  {
   "cell_type": "code",
   "execution_count": null,
   "id": "a6486c7d",
   "metadata": {},
   "outputs": [],
   "source": []
  },
  {
   "cell_type": "code",
   "execution_count": null,
   "id": "3b03e0aa",
   "metadata": {},
   "outputs": [],
   "source": [
    "def identifyChillPlus(u:mda.Universe, harmonic_index=3, eclipsed_range=[-0.45, 0.18], staggered_range=[-1.0, -0.8]):\n",
    "    return 0"
   ]
  },
  {
   "cell_type": "code",
   "execution_count": 1,
   "id": "d8efda7b",
   "metadata": {},
   "outputs": [
    {
     "ename": "NameError",
     "evalue": "name 'mda' is not defined",
     "output_type": "error",
     "traceback": [
      "\u001b[1;31m---------------------------------------------------------------------------\u001b[0m",
      "\u001b[1;31mNameError\u001b[0m                                 Traceback (most recent call last)",
      "Cell \u001b[1;32mIn[1], line 1\u001b[0m\n\u001b[1;32m----> 1\u001b[0m \u001b[38;5;28;01mdef\u001b[39;00m \u001b[38;5;21midentifyChillPlus\u001b[39m(u:\u001b[43mmda\u001b[49m\u001b[38;5;241m.\u001b[39mUniverse, degree\u001b[38;5;241m=\u001b[39m\u001b[38;5;241m3\u001b[39m):\n\u001b[0;32m      2\u001b[0m \u001b[38;5;250m    \u001b[39m\u001b[38;5;124;03m\"\"\"\u001b[39;00m\n\u001b[0;32m      3\u001b[0m \u001b[38;5;124;03m    Args:\u001b[39;00m\n\u001b[0;32m      4\u001b[0m \u001b[38;5;124;03m    Returns:\u001b[39;00m\n\u001b[0;32m      5\u001b[0m \u001b[38;5;124;03m    \"\"\"\u001b[39;00m\n\u001b[0;32m      6\u001b[0m     \u001b[38;5;66;03m# number of m calculated from degree\u001b[39;00m\n",
      "\u001b[1;31mNameError\u001b[0m: name 'mda' is not defined"
     ]
    }
   ],
   "source": [
    "def identifyChillPlus(u:mda.Universe, degree=3):\n",
    "    \"\"\"\n",
    "    Args:\n",
    "    Returns:\n",
    "    \"\"\"\n",
    "    # number of m calculated from degree\n",
    "    num_m = degree * 2 + 1\n",
    "    # select the atoms with name OW\n",
    "    pos = u.select_atoms(\"name OW\").atoms.positions/10\n",
    "    box = u.dimensions[:3]/10\n",
    "    # find the nearest 4 neighbors\n",
    "    dist= pbcDistance(pos[:,np.newaxis,:] - pos, box)\n",
    "    dist= np.sqrt((dist**2).sum(axis=-1))\n",
    "    argsorted = np.argsort(dist, axis=1)[:,1:5]\n",
    "    # define the qlm\n",
    "    qlm = np.zeros((argsorted.shape[0],), dtype=complex)\n",
    "    for (i,a) in enumerate(argsorted):\n",
    "        qlmi = np.zeros((num_m, ), dtype=complex)\n",
    "        for ind in a:\n",
    "            r = pbcDistance(pos[ind] - pos[i], box)\n",
    "            r = r / np.sqrt((r**2).sum())\n",
    "            if r[0] >0 and r[1]>0:\n",
    "                azimuth = np.arctan(r[0]/r[1]) \n",
    "            elif r[0] <0 and r[1]>0:\n",
    "                azimuth = np.arctan(r[0]/r[1]) + 2*np.pi\n",
    "            else:\n",
    "                azimuth = np.arctan(r[0]/r[1]) + np.pi\n",
    "        \n",
    "            zenith  = np.arccos(r[2])\n",
    "            l = np.arange(-3,4,1)\n",
    "            res = sp.sph_harm(l, 3, azimuth, zenith)\n",
    "            qlmi = qlmi + res\n",
    "        qlm[i] = qlmi/4\n",
    "    cij = (qlm[:,np.newaxis,:] * np.conjugate(qlm[np.newaxis,:,:])).sum(axis=-1)\n",
    "    qi  = np.sqrt((qlm * np.conjugate(qlm)).sum(axis=-1,keepdims=True))\n",
    "    qij = qi[:,np.newaxis,:] * qi\n",
    "    qij = qij.reshape(1024,1024)\n",
    "    cij = cij/qij"
   ]
  },
  {
   "cell_type": "code",
   "execution_count": null,
   "id": "bb64f8d0",
   "metadata": {},
   "outputs": [],
   "source": []
  }
 ],
 "metadata": {
  "kernelspec": {
   "display_name": "Python 3 (ipykernel)",
   "language": "python",
   "name": "python3"
  },
  "language_info": {
   "codemirror_mode": {
    "name": "ipython",
    "version": 3
   },
   "file_extension": ".py",
   "mimetype": "text/x-python",
   "name": "python",
   "nbconvert_exporter": "python",
   "pygments_lexer": "ipython3",
   "version": "3.8.16"
  }
 },
 "nbformat": 4,
 "nbformat_minor": 5
}
